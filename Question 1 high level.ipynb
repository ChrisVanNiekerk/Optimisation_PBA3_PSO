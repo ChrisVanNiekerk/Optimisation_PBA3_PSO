{
 "cells": [
  {
   "cell_type": "code",
   "execution_count": 1,
   "metadata": {},
   "outputs": [],
   "source": [
    "import numpy as np\n",
    "import pandas as pd\n",
    "import random\n",
    "import matplotlib.pyplot as plt\n",
    "from matplotlib import cm\n",
    "from matplotlib.ticker import LinearLocator, FormatStrFormatter\n",
    "from mpl_toolkits.mplot3d import Axes3D\n",
    "import seaborn as sns\n",
    "import time\n",
    "import math"
   ]
  },
  {
   "cell_type": "code",
   "execution_count": 2,
   "metadata": {},
   "outputs": [],
   "source": [
    "def objfun(x,y):\n",
    "    \n",
    "    \"\"\" \n",
    "    This function calculates the objective function value corresponding to x and y\n",
    "\n",
    "    Parameters: \n",
    "        x (float): x-value of candidate solution\n",
    "        y (float): y-value of candidate solution\n",
    "\n",
    "    Returns: \n",
    "        f (float): objective function value for f1 and f2: [f1,f2]\n",
    "    \"\"\"\n",
    "    \n",
    "    f = -(y + 47) * np.sin(np.sqrt(np.abs(y + x/2 + 47))) - x * np.sin(np.sqrt(np.abs(x - (y + 47))))\n",
    "    \n",
    "    return f"
   ]
  },
  {
   "cell_type": "code",
   "execution_count": 40,
   "metadata": {},
   "outputs": [],
   "source": [
    "def check_feasibility(z):\n",
    "    \n",
    "    \"\"\" \n",
    "    This function checks whether the candidate solution is feasible according to given constraint\n",
    "\n",
    "    Parameters: \n",
    "        z (float): x-value or y-value of candidate solution\n",
    "\n",
    "    Returns: \n",
    "        feasibility_flag (bool): The flag that indicates whether the candidate solution is feasible. \n",
    "                                 If it is, then feasibility_flag = True, else False\n",
    "    \"\"\"\n",
    "    \n",
    "    # Set constraint values\n",
    "    constr_ceiling = 512\n",
    "    const_floor = -512\n",
    "    \n",
    "    # Check whether the candidate solution is valid subject to problem constraint, return True is yes and False if no\n",
    "    if z <= constr_ceiling and z >= const_floor:\n",
    "        \n",
    "        feasibility_flag = True\n",
    "        \n",
    "    else:\n",
    "        \n",
    "        feasibility_flag = False\n",
    "    \n",
    "    return feasibility_flag   "
   ]
  },
  {
   "cell_type": "code",
   "execution_count": 17,
   "metadata": {},
   "outputs": [],
   "source": [
    "def dataframe_init(n):\n",
    "    \n",
    "    \"\"\" \n",
    "    This function initialises a dataframe according to the number of particles passed based\n",
    "    on a 2-variable objective function, including initial values for swarm locations and velocities\n",
    "    \n",
    "    The dataframe holds as columns (for each particle) the current values of x,y and f, \n",
    "    the best values of x,y, and f as well as the velocity and randomly generated rho1 and rho2\n",
    "\n",
    "    Parameters: \n",
    "        n (int): number of particles\n",
    "\n",
    "    Returns: \n",
    "        data_store (DataFrame): Dataframe outlined in the function description\n",
    "        global_best (list): List of new global best solution in the form [x,y,f]\n",
    "    \"\"\"\n",
    "    # Initialise list to store column names and global best solutions \n",
    "    # Make initial f infinite so that it is guaranteed to be improved upon\n",
    "    columns_list = []\n",
    "    global_best = [0, 0, np.inf]\n",
    "    \n",
    "    # Create list of column names\n",
    "    for i in range(n):\n",
    "    \n",
    "        columns_list.append(\"x_\"+str(i))\n",
    "        columns_list.append(\"y_\"+str(i))\n",
    "        columns_list.append(\"f_\"+str(i))\n",
    "        columns_list.append(\"x_best_\"+str(i))\n",
    "        columns_list.append(\"y_best_\"+str(i))\n",
    "        columns_list.append(\"f_best_\"+str(i))\n",
    "        columns_list.append(\"vx_\"+str(i))\n",
    "        columns_list.append(\"vy_\"+str(i))\n",
    "        columns_list.append(\"rho1_\"+str(i))\n",
    "        columns_list.append(\"rho2_\"+str(i))\n",
    "    \n",
    "    # Initialise dataframe with all column names\n",
    "    data_store = pd.DataFrame(columns = columns_list)\n",
    "    \n",
    "    # Randomly initialise swarm locations, velocities and rho and store in dataframe\n",
    "    for j in range(n):\n",
    "        \n",
    "        # Locations\n",
    "        x_init = random.uniform(-512, 512)\n",
    "        y_init = random.uniform(-512, 512)\n",
    "        data_store.loc[0, ['x_'+str(j)]] = x_init\n",
    "        data_store.loc[0, ['y_'+str(j)]] = y_init\n",
    "        \n",
    "        # Calculate objective function valuev\n",
    "        f_init = objfun(x_init, y_init)\n",
    "        data_store.loc[0, ['f_'+str(j)]] = f_init\n",
    "        \n",
    "        # Assign current values of x, y and f to x_best, y_best and f_best\n",
    "        data_store.loc[0, ['x_best_'+str(j)]] = x_init\n",
    "        data_store.loc[0, ['y_best_'+str(j)]] = y_init\n",
    "        data_store.loc[0, ['f_best_'+str(j)]] = f_init    \n",
    "                \n",
    "        # Initialise velocities (use low value for slower start)\n",
    "        data_store.loc[0, ['vx_'+str(j)]] = random.uniform(0, 1)\n",
    "        data_store.loc[0, ['vy_'+str(j)]] = random.uniform(0, 1)\n",
    "        \n",
    "        # Generate random values for rho1 and rho2 ([0,1])\n",
    "        data_store.loc[0, ['rho1_'+str(j)]] = random.uniform(0, 1)\n",
    "        data_store.loc[0, ['rho2_'+str(j)]] = random.uniform(0, 1)\n",
    "        \n",
    "        # Check for global best and assign x, y and f to global best list when applicable\n",
    "        if f_init < global_best[2]:\n",
    "            \n",
    "            global_best[0] = x_init\n",
    "            global_best[0] = y_init\n",
    "            global_best[0] = f_init        \n",
    "    \n",
    "    return data_store, global_best"
   ]
  },
  {
   "cell_type": "code",
   "execution_count": 41,
   "metadata": {},
   "outputs": [],
   "source": [
    "def particle_update(data_store, global_best, c1, c2, w, t, n):\n",
    "    \n",
    "    \"\"\" \n",
    "    This function calculates the generates values for rho1 and rho2velocities, vx(t) and vy(t) \n",
    "    associated with x(t-1) and y(t-1) and updates x(t), y(t) and f(t) according to Talbi (2009)\n",
    "    \n",
    "    Next, it checks for local and global best solutions and updates if necessary\n",
    "\n",
    "    The dataframe passed holds as columns (for each particle) the current values of x,y and f, \n",
    "    the best values of x,y, and f as well as the velocity and randomly generated rho1 and rho2\n",
    "    \n",
    "    Parameters: \n",
    "        data_store (DataFrame): Dataframe outlined in the function description\n",
    "        global_best (list): List of current global best solution in the form [x,y,f]\n",
    "        c1 (float): Cognitive Factor 1\n",
    "        c2 (float): Cognitive Factor 2\n",
    "        w (float): Inertia\n",
    "        t (int): Current iteration\n",
    "        n (int): Number of particles\n",
    "\n",
    "    Returns: \n",
    "        data_store (DataFrame): Dataframe outlined in the function description, including velocities\n",
    "        global_best (list): List of new global best solution in the form [x,y,f]\n",
    "    \"\"\"\n",
    "     \n",
    "\n",
    "\n",
    "    for i in range(n):\n",
    "        \n",
    "        # Generate random values for rho1 and rho2 ([0,1])\n",
    "        data_store.loc[t-1, ['rho1_'+str(i)]] = random.uniform(0, 1)\n",
    "        data_store.loc[t-1, ['rho2_'+str(i)]] = random.uniform(0, 1)\n",
    "    \n",
    "        # Extract x, y, f, x_best, y_best, vx, vy, rho_1 and rho_2 values from the dataframe\n",
    "        x = data_store.loc[t-1, ['x_'+str(i)]][0]\n",
    "        y = data_store.loc[t-1, ['y_'+str(i)]][0]\n",
    "        f = data_store.loc[t-1, ['f_'+str(i)]][0]\n",
    "        x_best = data_store.loc[t-1, ['x_best_'+str(i)]][0]\n",
    "        y_best = data_store.loc[t-1, ['y_best_'+str(i)]][0]\n",
    "        vx = data_store.loc[t-1, ['vx_'+str(i)]][0]\n",
    "        vy = data_store.loc[t-1, ['vy_'+str(i)]][0]\n",
    "        rho1 = data_store.loc[t-1, ['rho1_'+str(i)]][0]\n",
    "        rho2 = data_store.loc[t-1, ['rho2_'+str(i)]][0]\n",
    "        \n",
    "        # Calculate new velocities and update dataframe\n",
    "        vx_new = w*vx + rho1*c1*(x_best-x) + rho2*c2*(global_best[0] - x)\n",
    "        vy_new = w*vy + rho1*c1*(y_best-y) + rho2*c2*(global_best[1] - y) \n",
    "        data_store.loc[t, ['vx_'+str(i)]] = vx_new\n",
    "        data_store.loc[t, ['vy_'+str(i)]] = vy_new  \n",
    "        \n",
    "        # Calculate new values for x and y and update dataframe\n",
    "        x_new = x + vx_new\n",
    "        y_new = y + vy_new\n",
    "        \n",
    "        # Check Feasibility. If check_feasibility returns true, keep new solution, else, keep old solution\n",
    "        if check_feasibility(x_new) == True:\n",
    "            \n",
    "            data_store.loc[t, ['x_'+str(i)]] = x_new\n",
    "            \n",
    "        else:\n",
    "            \n",
    "            x_new = x\n",
    "            \n",
    "        if check_feasibility(y_new) == True:\n",
    "            \n",
    "            data_store.loc[t, ['y_'+str(i)]] = y_new\n",
    "            \n",
    "        else:\n",
    "            x_new = x\n",
    "        \n",
    "        # Calculate new value for f update dataframe\n",
    "        f_new = objfun(x_new, y_new)\n",
    "        data_store.loc[t, ['f_'+str(i)]] = f_new\n",
    "        \n",
    "        # Check for local best and update if necessary\n",
    "        if f_new < f:\n",
    "            \n",
    "            data_store.loc[t, ['x_best_'+str(i)]] = x_new\n",
    "            data_store.loc[t, ['y_best_'+str(i)]] = y_new\n",
    "            data_store.loc[t, ['f_best_'+str(i)]] = f_new\n",
    "            \n",
    "        if f_new < global_best[2]:\n",
    "            \n",
    "            global_best[0] = x_new\n",
    "            global_best[1] = y_new\n",
    "            global_best[2] = f_new   \n",
    "    \n",
    "    return data_store, global_best"
   ]
  },
  {
   "cell_type": "code",
   "execution_count": 52,
   "metadata": {},
   "outputs": [],
   "source": [
    "# Initialise number of particles\n",
    "n = 50\n",
    "\n",
    "# Initialise iteration counter, t, the initial swarm locations, velocities, global_best and rho\n",
    "t = 1\n",
    "data_store, global_best = dataframe_init(n)\n",
    "\n",
    "# Declare w, C1 and C2\n",
    "w = 1\n",
    "c1 = 1\n",
    "c2 = 1\n",
    "\n",
    "# Initialise stop flag and stopping condition counter\n",
    "stop_flag = False\n",
    "stop_cond_count = 0\n",
    "stop_count_max  = 20\n",
    "\n",
    "while stop_flag == False:\n",
    "    \n",
    "    global_best_prev = global_best\n",
    "    \n",
    "    data_store, global_best = particle_update(data_store, global_best, c1, c2, w, t, n)\n",
    "    \n",
    "    # Stopping condition increment or reset\n",
    "    if global_best[2] < global_best_prev[2]:\n",
    "        \n",
    "        # Reset stopping counter\n",
    "        stop_cond_count = 0\n",
    "        \n",
    "    else: \n",
    "        \n",
    "        # Increment stopping counter\n",
    "        stop_cond_count = stop_cond_count + 1\n",
    "   \n",
    "    # Stopping condition check and set\n",
    "    if stop_cond_count == stop_count_max:\n",
    "        \n",
    "        stop_flag = True\n",
    "    "
   ]
  },
  {
   "cell_type": "code",
   "execution_count": 53,
   "metadata": {},
   "outputs": [
    {
     "data": {
      "text/plain": [
       "[468.7342422001684, 420.4778185459684, -879.1844682135112]"
      ]
     },
     "execution_count": 53,
     "metadata": {},
     "output_type": "execute_result"
    }
   ],
   "source": [
    "global_best"
   ]
  },
  {
   "cell_type": "code",
   "execution_count": null,
   "metadata": {},
   "outputs": [],
   "source": []
  },
  {
   "cell_type": "code",
   "execution_count": null,
   "metadata": {},
   "outputs": [],
   "source": [
    "velocity_update_rho"
   ]
  },
  {
   "cell_type": "code",
   "execution_count": null,
   "metadata": {},
   "outputs": [],
   "source": [
    "i = 0\n",
    "t = 1"
   ]
  },
  {
   "cell_type": "code",
   "execution_count": null,
   "metadata": {},
   "outputs": [],
   "source": [
    "data_store, global_best = particle_update(data_store, global_best=[1,2,3], c1=1, c2=1, w=1, t=1, n=2)"
   ]
  },
  {
   "cell_type": "code",
   "execution_count": null,
   "metadata": {},
   "outputs": [],
   "source": [
    "data_store"
   ]
  },
  {
   "cell_type": "code",
   "execution_count": null,
   "metadata": {},
   "outputs": [],
   "source": [
    "a = [1,2,3,4,5,6,7,8,9,10,11,12,13,14,15,16,17,18,19,20]"
   ]
  },
  {
   "cell_type": "code",
   "execution_count": null,
   "metadata": {},
   "outputs": [],
   "source": [
    "data_store.loc[len(data_store)] = a"
   ]
  },
  {
   "cell_type": "code",
   "execution_count": null,
   "metadata": {},
   "outputs": [],
   "source": [
    "data_store"
   ]
  },
  {
   "cell_type": "code",
   "execution_count": null,
   "metadata": {},
   "outputs": [],
   "source": [
    "data_store = dataframe_init(2)"
   ]
  },
  {
   "cell_type": "code",
   "execution_count": null,
   "metadata": {},
   "outputs": [],
   "source": []
  },
  {
   "cell_type": "code",
   "execution_count": null,
   "metadata": {},
   "outputs": [],
   "source": [
    "pd.DataFrame(columns = columns_list)"
   ]
  },
  {
   "cell_type": "code",
   "execution_count": null,
   "metadata": {},
   "outputs": [],
   "source": []
  },
  {
   "cell_type": "code",
   "execution_count": null,
   "metadata": {},
   "outputs": [],
   "source": []
  },
  {
   "cell_type": "code",
   "execution_count": null,
   "metadata": {},
   "outputs": [],
   "source": [
    "## Matplotlib Sample Code using 2D arrays via meshgrid\n",
    "# plt.style.use('dark_background')\n",
    "# plt.style.use('default')\n",
    "x = np.arange(-512, 512, 1)\n",
    "y = np.arange(-512, 512, 1)\n",
    "x, y = np.meshgrid(x, y)\n",
    "f = objfuns(x,y)\n",
    "# figsize=(12,8)\n",
    "fig = plt.figure(figsize=(12,8))\n",
    "ax = Axes3D(fig)\n",
    "\n",
    "surf = ax.plot_surface(x, y, f, cmap=cm.coolwarm,\n",
    "                       linewidth=0, antialiased=False)\n",
    "# ax.set_zlim(-1.01, 1.01)\n",
    "\n",
    "ax.zaxis.set_major_locator(LinearLocator(10))\n",
    "ax.set(xlabel='x', ylabel='y', zlabel = 'f')\n",
    "# ax.zaxis.set_major_formatter(FormatStrFormatter('%.02f'))\n",
    "\n",
    "fig.colorbar(surf, shrink=0.5, aspect=20)\n",
    "plt.title('Objective Function Surface',pad=30, fontdict = {'fontsize': 20, 'fontweight' : 5})\n",
    "plt.show()\n",
    "fig.savefig('surface_plot.png',dpi=300,bbox_inches = 'tight')"
   ]
  },
  {
   "cell_type": "code",
   "execution_count": null,
   "metadata": {},
   "outputs": [],
   "source": []
  }
 ],
 "metadata": {
  "kernelspec": {
   "display_name": "Python 3",
   "language": "python",
   "name": "python3"
  },
  "language_info": {
   "codemirror_mode": {
    "name": "ipython",
    "version": 3
   },
   "file_extension": ".py",
   "mimetype": "text/x-python",
   "name": "python",
   "nbconvert_exporter": "python",
   "pygments_lexer": "ipython3",
   "version": "3.7.4"
  }
 },
 "nbformat": 4,
 "nbformat_minor": 4
}
